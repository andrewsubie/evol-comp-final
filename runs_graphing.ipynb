{
 "cells": [
  {
   "cell_type": "code",
   "execution_count": 1,
   "id": "initial_id",
   "metadata": {},
   "outputs": [],
   "source": [
    "import matplotlib.pyplot as plt\n",
    "import numpy as np\n",
    "from formula import Formula\n",
    "from formula import crossover_formulas\n",
    "import random\n",
    "plt.style.use('seaborn-v0_8')\n",
    "\n",
    "import scikits.bootstrap as bootstrap\n",
    "import warnings\n",
    "warnings.filterwarnings('ignore')\n",
    "\n",
    "import scipy.stats # for finding statistical significance\n",
    "\n",
    "import copy\n",
    "import time"
   ]
  },
  {
   "cell_type": "markdown",
   "id": "6b9c918474ddf573",
   "metadata": {},
   "source": [
    "## Graphing Functions\n",
    "`plot_mean_and_bootstrapped_ci_over_time`: Plots the mean, bootstrapped 95% C.I over generational time\n",
    "\n",
    "`plot_mean_over_time`: Plots the means over generational time"
   ]
  },
  {
   "cell_type": "code",
   "execution_count": 2,
   "id": "b6977fca16078e5e",
   "metadata": {},
   "outputs": [],
   "source": [
    "def plot_mean_and_bootstrapped_ci_over_time(input_data = None, name = \"change me\",\n",
    "                                            x_label = \"change me\", y_label=\"change me\",\n",
    "                                            y_limit = None, plot_bootstrap = True):\n",
    "    \"\"\"\n",
    "    \n",
    "    parameters: \n",
    "    input_data: (numpy array of shape (max_k, num_repitions)) solution metric to plot\n",
    "    name: (string) name for legend\n",
    "    x_label: (string) x axis label\n",
    "    y_label: (string) y axis label\n",
    "    \n",
    "    returns:\n",
    "    None\n",
    "    \"\"\"\n",
    "    num_generations = input_data.shape[1]\n",
    "    num_runs = input_data.shape[0]\n",
    "    \n",
    "    # Make plotting the bootstrap optional!\n",
    "    if plot_bootstrap:\n",
    "        # confidence interval values need to be calculated separately for each generation\n",
    "\n",
    "        # So, find the confidence interval over all of the repetitions (:) at each generation,\n",
    "        # using [:,generation] \n",
    "        CIs = np.array([bootstrap.ci(data=input_data[:, generation])\n",
    "                        for generation in range(num_generations)])\n",
    "        # Creating np.arrays through list conversion is still a bit cheeky,\n",
    "        # but it works fine and allows for better indexing (: and ,)\n",
    "\n",
    "        # Take every generation's (:) lows (0)\n",
    "        ci_low = CIs[:,0]\n",
    "        # And take every generation's (:) highs (1)\n",
    "        ci_high = CIs[:,1]\n",
    "\n",
    "        plt.fill_between(range(num_generations), ci_low, ci_high, alpha=0.4)\n",
    "    \n",
    "    plt.plot(np.mean(input_data, axis=0), label = name)\n",
    "    \n",
    "    # Plot annotations\n",
    "    plt.xlabel(x_label)\n",
    "    plt.ylabel(y_label)\n",
    "    plt.ylim(y_limit)\n",
    "    plt.legend()"
   ]
  },
  {
   "cell_type": "markdown",
   "id": "7cf3706c6a11b4ba",
   "metadata": {},
   "source": [
    "## Evolutionary Algorithms\n",
    "`basic_evolutionary_algorithm': basic algorithm with truncation selection "
   ]
  },
  {
   "cell_type": "code",
   "execution_count": 3,
   "id": "514787b36f0010e9",
   "metadata": {
    "ExecuteTime": {
     "end_time": "2024-11-13T19:28:13.435043900Z",
     "start_time": "2024-11-13T19:28:13.423136900Z"
    }
   },
   "outputs": [],
   "source": [
    "def basic_evolutionary_algorithm(degree = 2, min_len=5, max_len=25,path = None, total_generations=100, num_parents=10, num_children = 10, num_elements_to_mutate=1, num_crossover=2, crossover=True):\n",
    "    \"\"\"\n",
    "    :param degree:  \n",
    "    :param min_len: \n",
    "    :param max_len: \n",
    "    :param path: \n",
    "    :param total_generations: \n",
    "    :param num_parents: \n",
    "    :param num_children: \n",
    "    :param num_elements_to_mutate: \n",
    "    :param num_crossover: \n",
    "    :param crossover: \n",
    "    :return: \n",
    "    \"\"\"\n",
    "    #init record keeping\n",
    "    solution = None\n",
    "    solution_fitness = -999999\n",
    "    fitness_over_time = []\n",
    "    solution_over_time = []\n",
    "    diversity_over_time = []\n",
    "    \n",
    "    #init population\n",
    "    Individuals = []\n",
    "    for _ in range(num_parents):\n",
    "        Individuals.append(Formula(min_len, max_len, degree, path))\n",
    "    \n",
    "    for i in range(total_generations):\n",
    "        generation_fitnesses = []\n",
    "        for ind in Individuals:\n",
    "            generation_fitnesses.append(ind.eval_fitness()[0])\n",
    "        fitness_over_time.append(np.max(generation_fitnesses))\n",
    "        \n",
    "        children = []\n",
    "        while len(children) < num_children:\n",
    "            parent_1, parent_2 = random.sample(Individuals, 2)\n",
    "            child_1 = copy.deepcopy(parent_1)\n",
    "            child_2 = copy.deepcopy(parent_2)\n",
    "            #crossover\n",
    "            if crossover:\n",
    "                child_1.formula, child_2.formula = crossover_formulas(child_1, child_2, num_crossover)\n",
    "            #mutation\n",
    "            child_1.mutate_formula(num_elements_to_mutate)\n",
    "            child_2.mutate_formula(num_elements_to_mutate)\n",
    "            # add children to population\n",
    "            children.append(child_1)\n",
    "            if len(children) < num_children:\n",
    "                children.append(child_2)\n",
    "            Individuals.extend(children)\n",
    "            Individuals.sort(key=lambda ind: ind.eval_fitness(), reverse=True)\n",
    "            Individuals = Individuals[:num_parents]\n",
    "            #update solutions over time\n",
    "            solution_over_time.append(Individuals[-1].formula)\n",
    "        solution = solution_over_time[-1]\n",
    "        solution_fitness = fitness_over_time[-1]\n",
    "    return fitness_over_time, solution_over_time, solution, solution_fitness\n",
    "    \n",
    "    \n"
   ]
  },
  {
   "cell_type": "code",
   "execution_count": 4,
   "id": "a92d54939b98a764",
   "metadata": {},
   "outputs": [],
   "source": [
    "experiment_results = {}\n",
    "solutions_results = {}"
   ]
  },
  {
   "cell_type": "code",
   "execution_count": 5,
   "id": "e069f044",
   "metadata": {},
   "outputs": [],
   "source": [
    "num_runs = 5\n",
    "total_generations = 50\n",
    "path = './data/quadratic_equation_full_details.csv'\n",
    "degree = 2\n",
    "min_len = 5\n",
    "max_len = 25\n",
    "num_elements_to_mutate = 1\n",
    "num_parents = 10\n",
    "num_children = 10\n",
    "num_crossover = 2\n",
    "\n",
    "# tournament_size = 20\n",
    "# num_tournament_winners = 10\n",
    "\n",
    "crossover = True\n",
    "\n",
    "\n",
    "experiment = 'trial 1'\n",
    "\n",
    "experiment_results[experiment] = np.zeros([num_runs, total_generations])\n",
    "solutions_results[experiment] = {}\n",
    "\n",
    "for run in range(num_runs):\n",
    "    fitness, solution, _,_ = basic_evolutionary_algorithm(degree,\n",
    "                                                                min_len,\n",
    "                                                                max_len,\n",
    "                                                                path,\n",
    "                                                                total_generations,\n",
    "                                                                num_parents,\n",
    "                                                                num_children,\n",
    "                                                                num_elements_to_mutate,\n",
    "                                                                num_crossover,\n",
    "                                                                crossover)\n",
    "    experiment_results[experiment][run] = fitness\n",
    "    solutions_results[experiment][run] = solution"
   ]
  },
  {
   "cell_type": "code",
   "execution_count": 6,
   "id": "1a7d72eb",
   "metadata": {},
   "outputs": [
    {
     "data": {
      "image/png": "[encoded data removed]",
      "text/plain": [
       "<Figure size 800x550 with 1 Axes>"
      ]
     },
     "metadata": {},
     "output_type": "display_data"
    }
   ],
   "source": [
    "# plot fitness over time\n",
    "# plotting\n",
    "plt.figure(1, clear = True)\n",
    "for experiment in experiment_results.keys():\n",
    "    \n",
    "    plot_mean_and_bootstrapped_ci_over_time(experiment_results[experiment],\n",
    "                                            experiment,\n",
    "                                            \"Generation\",\n",
    "                                            \"Fitness\",\n",
    "                                            [10,20],\n",
    "                                            plot_bootstrap = False)\n",
    "plt.show()"
   ]
  },
  {
   "cell_type": "code",
   "execution_count": 7,
   "id": "c511fc57",
   "metadata": {},
   "outputs": [
    {
     "name": "stdout",
     "output_type": "stream",
     "text": [
      "\n",
      " (((c-1) root 4)**3) \n",
      "\n",
      "0.015625\n"
     ]
    }
   ],
   "source": [
    "ran_form = Formula(min_len, max_len,degree,path)\n",
    "ran_form.pretty_print_formula()\n",
    "print(ran_form.evaluate_formula((1,1,1,_,_)))"
   ]
  },
  {
   "cell_type": "code",
   "execution_count": 8,
   "id": "51ee9622",
   "metadata": {},
   "outputs": [
    {
     "name": "stdout",
     "output_type": "stream",
     "text": [
      "\n",
      " (((((b**2)-(4*(a*c))) root 2)-b)/(2*a)) \n",
      "\n"
     ]
    },
    {
     "data": {
      "text/plain": [
       "(99.55036325893131, 0.004526891601241724)"
      ]
     },
     "execution_count": 8,
     "metadata": {},
     "output_type": "execute_result"
    }
   ],
   "source": [
    "# actual quadratic formula:\n",
    "# (-b (+|-) root((pow(b,2) - 4 * (a * c)),2)) / (2 * a)\n",
    "q_form = ['a', 'b', 'c', 2, 3, 4, ('*',0,2), ('*',5,6), ('**',1,3), ('-',8,7), ('root',9,3), ('-', 10, 1), ('*',3,0),('/',11,12)]\n",
    "quad = Formula(min_len, max_len, degree, path)\n",
    "quad.formula = q_form\n",
    "quad.length_of_constants = 6\n",
    "quad.pretty_print_formula()\n",
    "quad.eval_fitness()"
   ]
  }
 ],
 "metadata": {
  "kernelspec": {
   "display_name": "Python 3 (ipykernel)",
   "language": "python",
   "name": "python3"
  },
  "language_info": {
   "codemirror_mode": {
    "name": "ipython",
    "version": 3
   },
   "file_extension": ".py",
   "mimetype": "text/x-python",
   "name": "python",
   "nbconvert_exporter": "python",
   "pygments_lexer": "ipython3",
   "version": "3.11.5"
  }
 },
 "nbformat": 4,
 "nbformat_minor": 5
}
