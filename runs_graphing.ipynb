{
 "cells": [
  {
   "cell_type": "code",
   "execution_count": 1,
   "id": "initial_id",
   "metadata": {
    "ExecuteTime": {
     "end_time": "2024-11-22T01:35:16.147524100Z",
     "start_time": "2024-11-22T01:35:16.120202200Z"
    }
   },
   "outputs": [],
   "source": [
    "import matplotlib.pyplot as plt\n",
    "import numpy as np\n",
    "from formula import Formula\n",
    "from formula import crossover_formulas\n",
    "import random\n",
    "plt.style.use('seaborn-v0_8')\n",
    "\n",
    "import scikits.bootstrap as bootstrap\n",
    "import warnings\n",
    "warnings.filterwarnings('ignore')\n",
    "\n",
    "import scipy.stats # for finding statistical significance\n",
    "\n",
    "import copy\n",
    "import time"
   ]
  },
  {
   "cell_type": "code",
   "execution_count": 2,
   "id": "bc3020088948dfe2",
   "metadata": {
    "ExecuteTime": {
     "end_time": "2024-11-22T01:13:36.237130600Z",
     "start_time": "2024-11-22T01:13:36.210894800Z"
    }
   },
   "outputs": [],
   "source": [
    "QUADRATIC_PATH = './data/quadratic_equation_full_details.csv'\n",
    "LINEAR_PATH = './data/linear_equations_1_variable.csv'"
   ]
  },
  {
   "cell_type": "markdown",
   "id": "6b9c918474ddf573",
   "metadata": {},
   "source": [
    "## Graphing Functions\n",
    "`plot_mean_and_bootstrapped_ci_over_time`: Plots the mean, bootstrapped 95% C.I over generational time\n",
    "\n",
    "`plot_mean_over_time`: Plots the means over generational time"
   ]
  },
  {
   "cell_type": "code",
   "execution_count": 3,
   "id": "b6977fca16078e5e",
   "metadata": {
    "ExecuteTime": {
     "end_time": "2024-11-22T01:13:41.463890300Z",
     "start_time": "2024-11-22T01:13:41.435348300Z"
    }
   },
   "outputs": [],
   "source": [
    "def plot_mean_and_bootstrapped_ci_over_time(input_data = None, name = \"change me\",\n",
    "                                            x_label = \"change me\", y_label=\"change me\",\n",
    "                                            y_limit = None, plot_bootstrap = True):\n",
    "    \"\"\"\n",
    "    \n",
    "    parameters: \n",
    "    input_data: (numpy array of shape (max_k, num_repitions)) solution metric to plot\n",
    "    name: (string) name for legend\n",
    "    x_label: (string) x axis label\n",
    "    y_label: (string) y axis label\n",
    "    \n",
    "    returns:\n",
    "    None\n",
    "    \"\"\"\n",
    "    num_generations = input_data.shape[1]\n",
    "    num_runs = input_data.shape[0]\n",
    "    \n",
    "    # Make plotting the bootstrap optional!\n",
    "    if plot_bootstrap:\n",
    "        # confidence interval values need to be calculated separately for each generation\n",
    "\n",
    "        # So, find the confidence interval over all of the repetitions (:) at each generation,\n",
    "        # using [:,generation] \n",
    "        CIs = np.array([bootstrap.ci(data=input_data[:, generation])\n",
    "                        for generation in range(num_generations)])\n",
    "        # Creating np.arrays through list conversion is still a bit cheeky,\n",
    "        # but it works fine and allows for better indexing (: and ,)\n",
    "\n",
    "        # Take every generation's (:) lows (0)\n",
    "        ci_low = CIs[:,0]\n",
    "        # And take every generation's (:) highs (1)\n",
    "        ci_high = CIs[:,1]\n",
    "\n",
    "        plt.fill_between(range(num_generations), ci_low, ci_high, alpha=0.4)\n",
    "    \n",
    "    plt.plot(np.mean(input_data, axis=0), label = name)\n",
    "    \n",
    "    # Plot annotations\n",
    "    plt.xlabel(x_label)\n",
    "    plt.ylabel(y_label)\n",
    "    plt.ylim(y_limit)\n",
    "    plt.legend()\n",
    "    #Save graph to ./graphs\n",
    "#     graph_file_name = f'./graphs/{name}.png'\n",
    "#     plt.savefig(graph_file_name)\n",
    "#     plt.show()\n"
   ]
  },
  {
   "cell_type": "markdown",
   "id": "7cf3706c6a11b4ba",
   "metadata": {},
   "source": [
    "## Evolutionary Algorithms\n",
    "`basic_evolutionary_algorithm': basic algorithm with truncation selection "
   ]
  },
  {
   "cell_type": "code",
   "execution_count": 4,
   "id": "514787b36f0010e9",
   "metadata": {
    "ExecuteTime": {
     "end_time": "2024-11-22T01:13:44.957808700Z",
     "start_time": "2024-11-22T01:13:44.944878900Z"
    }
   },
   "outputs": [],
   "source": [
    "def basic_evolutionary_algorithm(degree = 2, min_len=5, max_len=25,path = None, total_generations=100, num_parents=10, num_children = 10, num_elements_to_mutate=1, num_crossover=2, crossover=True):\n",
    "    \"\"\"\n",
    "    :param degree:  \n",
    "    :param min_len: \n",
    "    :param max_len: \n",
    "    :param path: \n",
    "    :param total_generations: \n",
    "    :param num_parents: \n",
    "    :param num_children: \n",
    "    :param num_elements_to_mutate: \n",
    "    :param num_crossover: \n",
    "    :param crossover: \n",
    "    :return: \n",
    "    \"\"\"\n",
    "    #init record keeping\n",
    "    solution = None\n",
    "    solution_fitness = -999999\n",
    "    fitness_over_time = []\n",
    "    solution_over_time = []\n",
    "    \n",
    "    #init population\n",
    "    Individuals = []\n",
    "    for _ in range(num_parents):\n",
    "        Individuals.append(Formula(min_len, max_len, degree, path))\n",
    "    \n",
    "    for i in range(total_generations):\n",
    "        print('Generation: ',i,end='\\r')\n",
    "        \n",
    "        generation_fitnesses = []\n",
    "        for ind in Individuals:\n",
    "            generation_fitnesses.append(ind.eval_fitness())\n",
    "        fitness_over_time.append(np.max(generation_fitnesses))\n",
    "        \n",
    "        children = []\n",
    "        while len(children) < num_children:\n",
    "            parent_1, parent_2 = random.sample(Individuals, 2)\n",
    "            \n",
    "            # This is greatly faster than deepcopying\n",
    "            # just make sure to pass the data! File I/O takes forever!\n",
    "            child_1 = Formula(0, 0, degree, path, data=parent_1.data) #copy.deepcopy(parent_1)\n",
    "            child_2 = Formula(0, 0, degree, path, data=parent_2.data) #copy.deepcopy(parent_2)\n",
    "            \n",
    "            child_1.min_length = parent_1.min_length\n",
    "            child_1.max_length = parent_1.max_length\n",
    "            \n",
    "            child_2.min_length = parent_2.min_length\n",
    "            child_2.max_length = parent_2.max_length\n",
    "            \n",
    "            \n",
    "#             child_1.fitness = None\n",
    "#             child_2.fitness = None\n",
    "            \n",
    "            #crossover\n",
    "            if crossover:\n",
    "                child_1.formula, child_2.formula = crossover_formulas(parent_1, parent_2, num_crossover)\n",
    "            #mutation\n",
    "            child_1.mutate_formula(num_elements_to_mutate)\n",
    "            child_2.mutate_formula(num_elements_to_mutate)\n",
    "            # add children to population\n",
    "            children.append(child_1)\n",
    "            if len(children) < num_children:\n",
    "                children.append(child_2)\n",
    "\n",
    "        Individuals.extend(children)\n",
    "        \n",
    "        Individuals.sort(key=lambda ind: ind.eval_fitness(), reverse=True)\n",
    "        Individuals = Individuals[:num_parents]\n",
    "        #update solutions over time\n",
    "        solution_over_time.append(Individuals[0].formula)\n",
    "        if solution is None or Individuals[0].eval_fitness() > solution_fitness:\n",
    "            solution = Individuals[0]\n",
    "            solution_fitness = Individuals[0].eval_fitness()\n",
    "    Individuals[0].pretty_print_formula()\n",
    "    return fitness_over_time, solution_over_time, solution, solution_fitness\n",
    "    \n",
    "    \n"
   ]
  },
  {
   "cell_type": "code",
   "execution_count": 5,
   "id": "38ba78818a7d29ad",
   "metadata": {
    "ExecuteTime": {
     "end_time": "2024-11-22T01:13:46.394584600Z",
     "start_time": "2024-11-22T01:13:46.361744100Z"
    }
   },
   "outputs": [],
   "source": [
    "def tournament_evolutionary_algorithm(degree = 2, min_len=5, max_len=25,path = None, total_generations=100, num_parents=10, num_children = 10, num_elements_to_mutate=1, num_crossover=2, tournament_size = 10, tournament_winners = 2, crossover=True):\n",
    "    \"\"\"\n",
    "    :param degree:  \n",
    "    :param min_len: \n",
    "    :param max_len: \n",
    "    :param path: \n",
    "    :param total_generations: \n",
    "    :param num_parents: \n",
    "    :param num_children: \n",
    "    :param num_elements_to_mutate: \n",
    "    :param num_crossover: \n",
    "    :param crossover: \n",
    "    :return: \n",
    "    \"\"\"\n",
    "    #init record keeping\n",
    "    solution = None\n",
    "    solution_fitness = -999999\n",
    "    fitness_over_time = []\n",
    "    solution_over_time = []\n",
    "    diversity_over_time = []\n",
    "    \n",
    "    #init population\n",
    "    Individuals = []\n",
    "    for _ in range(num_parents):\n",
    "        Individuals.append(Formula(min_len, max_len, degree, path))\n",
    "        \n",
    "    for i in range(total_generations):\n",
    "        print('Generation: ',i,end='\\r')\n",
    "        \n",
    "        generation_fitnesses = []\n",
    "        for ind in Individuals:\n",
    "            generation_fitnesses.append(ind.eval_fitness())\n",
    "        fitness_over_time.append(np.max(generation_fitnesses))\n",
    "        # generate children\n",
    "        children = []\n",
    "        while len(children) < num_children:\n",
    "            parent_1, parent_2 = random.sample(Individuals, 2)\n",
    "            child_1 = Formula(0, 0, degree, path, data=parent_1.data) #copy.deepcopy(parent_1)\n",
    "            child_2 = Formula(0, 0, degree, path, data=parent_2.data) #copy.deepcopy(parent_2)\n",
    "            \n",
    "            child_1.min_length = parent_1.min_length\n",
    "            child_1.max_length = parent_1.max_length\n",
    "            \n",
    "            child_2.min_length = parent_2.min_length\n",
    "            child_2.max_length = parent_2.max_length\n",
    "            \n",
    "            #crossover\n",
    "            if crossover:\n",
    "                child_1.formula, child_2.formula = crossover_formulas(parent_1, parent_2, num_crossover)\n",
    "            #mutation\n",
    "            child_1.mutate_formula(num_elements_to_mutate)\n",
    "            child_2.mutate_formula(num_elements_to_mutate)\n",
    "            # add children to population\n",
    "            children.append(child_1)\n",
    "            if len(children) < num_children:\n",
    "                children.append(child_2)\n",
    "        \n",
    "        Individuals.extend(children)\n",
    "        \n",
    "        \n",
    "        # tournament selection\n",
    "        new_individuals = []\n",
    "        while len(new_individuals) < num_parents:\n",
    "            tournament_pool = []\n",
    "            tournament_pool.extend(random.sample(Individuals, tournament_size))\n",
    "            tournament_pool.sort(key=lambda ind: ind.eval_fitness(), reverse=True)\n",
    "            new_individuals.extend(tournament_pool[:tournament_winners])\n",
    "        # update individuals\n",
    "        Individuals = new_individuals\n",
    "        Individuals.sort(key=lambda ind: ind.eval_fitness(), reverse=True)\n",
    "        #update solutions over time\n",
    "        solution_over_time.append(Individuals[0].formula)\n",
    "        if solution is None or Individuals[0].eval_fitness() > solution_fitness:\n",
    "            solution = Individuals[0]\n",
    "            solution_fitness = Individuals[0].eval_fitness()\n",
    "        \n",
    "    solution.pretty_print_formula()\n",
    "    return fitness_over_time, solution_over_time, solution, solution_fitness"
   ]
  },
  {
   "cell_type": "code",
   "execution_count": 58,
   "id": "9a02437cd9cb91dc",
   "metadata": {
    "ExecuteTime": {
     "end_time": "2024-11-18T23:46:07.382119500Z",
     "start_time": "2024-11-18T23:46:07.365262200Z"
    }
   },
   "outputs": [],
   "source": [
    "def age_fitness_pareto_evolution(degree = 2, min_len=5, max_len=25,\n",
    "                                 path = None, total_generations=100,\n",
    "                                 num_parents=10, num_children = 10,\n",
    "                                 num_elements_to_mutate=1, num_crossover=2,\n",
    "                                 crossover=True, max_fronts = 3,\n",
    "                                 max_front_prop = 0.50):\n",
    "    \"\"\"\n",
    "    :param degree:  \n",
    "    :param min_len: \n",
    "    :param max_len: \n",
    "    :param path: \n",
    "    :param total_generations: \n",
    "    :param num_parents: \n",
    "    :param num_children: \n",
    "    :param num_elements_to_mutate: \n",
    "    :param num_crossover: \n",
    "    :param crossover: \n",
    "    :return: \n",
    "    \"\"\"\n",
    "    #init record keeping\n",
    "    solution = None\n",
    "    solution_fitness = -999999\n",
    "    fitness_over_time = []\n",
    "    solution_over_time = []\n",
    "    top_age = []\n",
    "    \n",
    "    max_front_individuals = int(max_front_prop * num_parents)\n",
    "    \n",
    "    #init population\n",
    "    Individuals = []\n",
    "    for _ in range(num_parents):\n",
    "        Individuals.append(Formula(min_len, max_len, degree, path))\n",
    "    \n",
    "    for i in range(total_generations):\n",
    "        print('Generation: ',i,end='\\r')\n",
    "        \n",
    "        generation_fitnesses = []\n",
    "        for ind in Individuals:\n",
    "            ind.increment_age() # incrememnt age with new generation\n",
    "            generation_fitnesses.append(ind.eval_fitness())\n",
    "        fitness_over_time.append(np.max(generation_fitnesses))\n",
    "        \n",
    "        children = []\n",
    "        while len(children) < num_children:\n",
    "            parent_1, parent_2 = random.sample(Individuals, 2)\n",
    "            child_1 = Formula(0, 0, degree, path, data=parent_1.data) #copy.deepcopy(parent_1)\n",
    "            child_2 = Formula(0, 0, degree, path, data=parent_2.data) #copy.deepcopy(parent_2)\n",
    "            \n",
    "            c_age = max(parent_1.age, parent_2.age)\n",
    "            \n",
    "            child_1.age = c_age\n",
    "            child_2.age = c_age\n",
    "            \n",
    "            child_1.min_length = parent_1.min_length\n",
    "            child_1.max_length = parent_1.max_length\n",
    "            \n",
    "            child_2.min_length = parent_2.min_length\n",
    "            child_2.max_length = parent_2.max_length\n",
    "            \n",
    "            #crossover\n",
    "            if crossover:\n",
    "                child_1.formula, child_2.formula = crossover_formulas(parent_1, parent_2, num_crossover)\n",
    "            #mutation\n",
    "            child_1.mutate_formula(num_elements_to_mutate)\n",
    "            child_2.mutate_formula(num_elements_to_mutate)\n",
    "            # add children to population\n",
    "            child_1.eval_fitness()\n",
    "            children.append(child_1)\n",
    "            \n",
    "            \n",
    "            if len(children) < num_children:\n",
    "                child_2.eval_fitness()\n",
    "                children.append(child_2)\n",
    "        Individuals.extend(children)\n",
    "        #selection procedure (fitness)\n",
    "        \n",
    "        \n",
    "        # START OF PARETO IMPL\n",
    "        \n",
    "        # The idea here isn't supposed to be finding the best\n",
    "        # of age and fitness seperately, but together\n",
    "        # This is done with the 'pareto front' - which essentially\n",
    "        # makes a bracket for each value of X, where individuals\n",
    "        # possessing value X with the the best value Y are chosen\n",
    "        \n",
    "        # With the caveat that values superseded in both X AND Y are\n",
    "        # put into a lower rank\n",
    "        \n",
    "        agesorted_individuals = sorted(Individuals, key=lambda individual: individual.get_age())\n",
    "        \n",
    "        # The assorted fronts, with the first being the best\n",
    "        all_fronts = []\n",
    "        current_age = 0\n",
    "        \n",
    "        \n",
    "        # Take either the first X fronts or the top Y individuals,\n",
    "        # whichever occurs first (top Y individuals is not a hard bound)\n",
    "        while len(all_fronts) < max_fronts and sum([len(front) for front in all_fronts]) < max_front_individuals:\n",
    "            current_age = 0\n",
    "            current_fitness_best = -99999\n",
    "            current_front = []\n",
    "            candidate = None\n",
    "            candidate_idx = None\n",
    "            \n",
    "            old_agesorted_individuals = copy.deepcopy(agesorted_individuals)\n",
    "            \n",
    "            for idx, ind in enumerate(old_agesorted_individuals):\n",
    "                if ind.age > current_age:\n",
    "                    current_age = ind.age\n",
    "\n",
    "                    if candidate is not None:\n",
    "                        current_front.append(candidate)\n",
    "                        \n",
    "                        # Make sure not to allow individuals to be double counted!\n",
    "                        agesorted_individuals.pop(candidate_idx)\n",
    "                        \n",
    "                        candidate = None\n",
    "                        candidate_idx = None\n",
    "\n",
    "                if ind.eval_fitness() > current_fitness_best:\n",
    "                    candidate = ind\n",
    "                    candidate_idx = idx - len(current_front)\n",
    "                    current_fitness_best = ind.eval_fitness()\n",
    "\n",
    "            # Make sure to account for the last individual!\n",
    "            if candidate is not None:\n",
    "                current_front.append(candidate)\n",
    "                agesorted_individuals.pop(candidate_idx)\n",
    "                \n",
    "            all_fronts.append(current_front)\n",
    "        \n",
    "        top_age.append(current_age)\n",
    "        \n",
    "        top_individuals = []\n",
    "        \n",
    "        # Swap the best front to the end, allows easier selection without sorting\n",
    "        all_fronts.reverse()\n",
    "        \n",
    "        for front in all_fronts:\n",
    "            top_individuals.extend(front)\n",
    "        \n",
    "        # Don't need to sort! Favor the best front individuals\n",
    "        # top_individuals.sort(key=lambda ind: ind.eval_fitness(), reverse=True)\n",
    "\n",
    "        # Intuitively, the best individuals will now be at the end!\n",
    "        # As the older individuals will only be accepted if they are better, the end of a front is more fit!\n",
    "        Individuals = top_individuals[-max_front_individuals:]\n",
    "        Individuals.reverse()\n",
    "        \n",
    "        while len(Individuals) < num_parents:\n",
    "            Individuals.append(Formula(min_len, max_len, degree, path))\n",
    "        \n",
    "        # Assume that the random individuals are not better - so there is no need to sort\n",
    "        # This will only - hypothetically - cause a problem if the random solutions in the last generation\n",
    "        # are best, otherwise it should be OK\n",
    "        # Individuals.sort(key=lambda ind: ind.eval_fitness(), reverse=True)\n",
    "        \n",
    "        \n",
    "        #update solutions over time\n",
    "        solution_over_time.append(Individuals[0].formula)\n",
    "        if solution is None or Individuals[0].eval_fitness() > solution_fitness:\n",
    "            solution = Individuals[0]\n",
    "            solution_fitness = Individuals[0].eval_fitness()\n",
    "    Individuals[0].pretty_print_formula()\n",
    "    return fitness_over_time, solution_over_time, solution, solution_fitness, top_age\n",
    "    "
   ]
  },
  {
   "cell_type": "code",
   "execution_count": 7,
   "id": "a92d54939b98a764",
   "metadata": {
    "ExecuteTime": {
     "end_time": "2024-11-22T01:13:58.094745900Z",
     "start_time": "2024-11-22T01:13:58.073996300Z"
    }
   },
   "outputs": [],
   "source": [
    "experiment_results = {}\n",
    "solutions_results = {}"
   ]
  },
  {
   "cell_type": "code",
   "execution_count": 26,
   "id": "29b8ebfdd291d122",
   "metadata": {
    "ExecuteTime": {
     "end_time": "2024-11-22T01:27:57.949201900Z",
     "start_time": "2024-11-22T01:13:58.769335500Z"
    },
    "scrolled": false
   },
   "outputs": [
    {
     "name": "stdout",
     "output_type": "stream",
     "text": [
      "Generation:  1999\n",
      " (((2-b)+((b-(a+b))-c)) root 5) \n",
      "\n",
      "Generation:  1999\n",
      " ((5/a)-((b root 2)*(5/a))) \n",
      "\n",
      "Generation:  1999\n",
      " (((c+b)*((a root 3)-3)) root 5) \n",
      "\n",
      "Generation:  1999\n",
      " (b/((4-5)*a)) \n",
      "\n",
      "Generation:  1999\n",
      " (4-(((3/a)+3)*((4+(b-2)) root 4))) \n",
      "\n",
      "Generation:  1999\n",
      " ((((c/5)/a)-(5*2))/5) \n",
      "\n",
      "Generation:  1999\n",
      " (c/(4-((5+a)+b))) \n",
      "\n",
      "Generation:  1999\n",
      " ((4 root 2)-((b/a)+2)) \n",
      "\n",
      "Generation:  1999\n",
      " (((4-3) root 4)-2) \n",
      "\n",
      "Generation:  1999\n",
      " ((3-4)/(a/b)) \n",
      "\n"
     ]
    }
   ],
   "source": [
    "\n",
    "num_runs = 10\n",
    "total_generations = 2000\n",
    "path = './data/quadratic_equation_full_details.csv'\n",
    "degree = 2\n",
    "min_len = 5\n",
    "max_len = 25\n",
    "num_elements_to_mutate = 1\n",
    "num_parents = 20\n",
    "num_children = 10\n",
    "num_crossover = 2\n",
    "tournament_size = 10\n",
    "tournament_winners = 2\n",
    "\n",
    "# tournament_size = 20\n",
    "# num_tournament_winners = 10\n",
    "\n",
    "crossover = True\n",
    "\n",
    "\n",
    "experiment = 'tournament_2'\n",
    "\n",
    "experiment_results[experiment] = np.zeros([num_runs, total_generations])\n",
    "solutions_results[experiment] = {}\n",
    "\n",
    "for run in range(num_runs):\n",
    "    fitness, solution, _,_ = tournament_evolutionary_algorithm(degree,\n",
    "                      \n",
    "                                                                min_len,\n",
    "                                                                max_len,\n",
    "                                                                path,\n",
    "                                                                total_generations,\n",
    "                                                                num_parents,\n",
    "                                                                num_children,\n",
    "                                                                num_elements_to_mutate,\n",
    "                                                                num_crossover,\n",
    "                                                               tournament_size,\n",
    "                                                               tournament_winners,\n",
    "                                                                crossover)\n",
    "    experiment_results[experiment][run] = fitness\n",
    "    solutions_results[experiment][run] = solution"
   ]
  },
  {
   "cell_type": "code",
   "execution_count": 11,
   "id": "e069f044",
   "metadata": {
    "ExecuteTime": {
     "end_time": "2024-11-22T01:35:36.643342200Z",
     "start_time": "2024-11-22T01:35:33.841126400Z"
    },
    "scrolled": false
   },
   "outputs": [
    {
     "name": "stdout",
     "output_type": "stream",
     "text": [
      "Generation:  99\n",
      " (5-4) \n",
      "\n",
      "Generation:  99\n",
      " ((y-m)/m) \n",
      "\n",
      "Generation:  99\n",
      " ((((m/y)/3)+y)/m) \n",
      "\n",
      "Generation:  99\n",
      " (2 root 4) \n",
      "\n",
      "Generation:  99\n",
      " ((m*4)/(y/3)) \n",
      "\n",
      "Generation:  99\n",
      " (5/((2*m)-(m**3))) \n",
      "\n",
      "Generation:  99\n",
      " ((((m-4)+y)-((3 root 3)*(y/(m-2))))/(m-4)) \n",
      "\n",
      "Generation:  99\n",
      " (y/(m-2)) \n",
      "\n",
      "Generation:  99\n",
      " ((4+y)/m) \n",
      "\n",
      "Generation:  99\n",
      " ((((y-b)+y)/(4 root 2))/((3/m)+m)) \n",
      "\n"
     ]
    }
   ],
   "source": [
    "num_runs = 10\n",
    "total_generations = 100\n",
    "path = './data/linear_equations_1_variable.csv'\n",
    "degree = 1\n",
    "min_len = 5\n",
    "max_len = 15\n",
    "num_elements_to_mutate = 1\n",
    "num_parents = 20\n",
    "num_children = 10\n",
    "num_crossover = 2\n",
    "\n",
    "# tournament_size = 20\n",
    "# num_tournament_winners = 10\n",
    "\n",
    "crossover = True\n",
    "\n",
    "\n",
    "experiment = 'basic_linear'\n",
    "\n",
    "experiment_results[experiment] = np.zeros([num_runs, total_generations])\n",
    "solutions_results[experiment] = {}\n",
    "\n",
    "for run in range(num_runs):\n",
    "    fitness, solution, _,_ = basic_evolutionary_algorithm(degree,\n",
    "                                                                min_len,\n",
    "                                                                max_len,\n",
    "                                                                path,\n",
    "                                                                total_generations,\n",
    "                                                                num_parents,\n",
    "                                                                num_children,\n",
    "                                                                num_elements_to_mutate,\n",
    "                                                                num_crossover,\n",
    "                                                                crossover)\n",
    "    experiment_results[experiment][run] = fitness\n",
    "    solutions_results[experiment][run] = solution"
   ]
  },
  {
   "cell_type": "code",
   "execution_count": 63,
   "id": "4afc36f8304fc775",
   "metadata": {
    "ExecuteTime": {
     "end_time": "2024-11-21T00:55:45.397820800Z",
     "start_time": "2024-11-21T00:54:45.649539300Z"
    },
    "scrolled": false
   },
   "outputs": [
    {
     "name": "stdout",
     "output_type": "stream",
     "text": [
      "Generation:  1999\n",
      " (((2-a)-b)/a) \n",
      "\n",
      "Generation:  1999\n",
      " (((a-(2 root 4))-b)/a) \n",
      "\n",
      "Generation:  1999\n",
      " ((a-b)/a) \n",
      "\n",
      "Generation:  1999\n",
      " (((c-3)-((c-3)+b))/a) \n",
      "\n",
      "Generation:  1999\n",
      " (((2/c)-b)/a) \n",
      "\n",
      "Generation:  1999\n",
      " ((((5 root 2)-b)-(5 root 2))/a) \n",
      "\n",
      "Generation:  1999\n",
      " ((2-5)/(a/(b/3))) \n",
      "\n",
      "Generation:  1999\n",
      " ((a root 5)+(b/((3/((b**2)-c))-a))) \n",
      "\n",
      "Generation:  1999\n",
      " (((c/(4*3))/(3+(b/a)))-(b/a)) \n",
      "\n",
      "Generation:  1999\n",
      " ((b**4)-((b**4)+(b/a))) \n",
      "\n"
     ]
    }
   ],
   "source": [
    "num_runs = 10\n",
    "total_generations = 2000\n",
    "path = './data/quadratic_equation_full_details.csv'\n",
    "degree = 2\n",
    "min_len = 10\n",
    "max_len = 25\n",
    "num_elements_to_mutate = 1\n",
    "num_parents = 20\n",
    "num_children = 10\n",
    "num_crossover = 2\n",
    "# age_select_prop = 0.70\n",
    "\n",
    "# tournament_size = 20\n",
    "# num_tournament_winners = 10\n",
    "\n",
    "crossover = True\n",
    "\n",
    "\n",
    "experiment = 'pareto_quadratic'\n",
    "\n",
    "experiment_ages = {}\n",
    "experiment_ages[experiment] = np.zeros([num_runs, total_generations])\n",
    "\n",
    "\n",
    "experiment_results[experiment] = np.zeros([num_runs, total_generations])\n",
    "solutions_results[experiment] = {}\n",
    "\n",
    "for run in range(num_runs):\n",
    "    fitness, solution, _,_, ages = age_fitness_pareto_evolution(degree,\n",
    "                                                                min_len,\n",
    "                                                                max_len,\n",
    "                                                                path,\n",
    "                                                                total_generations,\n",
    "                                                                num_parents,\n",
    "                                                                num_children,\n",
    "                                                                num_elements_to_mutate,\n",
    "                                                                num_crossover,\n",
    "                                                                crossover)\n",
    "    experiment_ages[experiment][run] = ages\n",
    "    experiment_results[experiment][run] = fitness\n",
    "    solutions_results[experiment][run] = solution"
   ]
  },
  {
   "cell_type": "code",
   "execution_count": 66,
   "id": "1a7d72eb",
   "metadata": {
    "ExecuteTime": {
     "end_time": "2024-11-21T01:15:35.778496900Z",
     "start_time": "2024-11-21T01:15:34.207416700Z"
    }
   },
   "outputs": [
    {
     "data": {
      "image/png": "[encoded data removed]",
      "text/plain": [
       "<Figure size 800x550 with 1 Axes>"
      ]
     },
     "metadata": {},
     "output_type": "display_data"
    },
    {
     "data": {
      "text/plain": [
       "<Figure size 800x550 with 0 Axes>"
      ]
     },
     "metadata": {},
     "output_type": "display_data"
    }
   ],
   "source": [
    "# plot fitness over time\n",
    "# plotting\n",
    "plt.figure(1, clear = True)\n",
    "\n",
    "smaller_keys = []\n",
    "for x in experiment_results.keys():\n",
    "    if 'linear' not in x:\n",
    "        smaller_keys.append(x)\n",
    "\n",
    "for experiment in smaller_keys:\n",
    "        plot_mean_and_bootstrapped_ci_over_time(experiment_results[experiment],\n",
    "                                            experiment,\n",
    "                                            \"Generation\",\n",
    "                                            \"Fitness\",\n",
    "                                            [18,24],\n",
    "                                            plot_bootstrap = True)\n",
    "plt.show()\n",
    "timestamp = time.strftime(\"%Y%m%d_%H%M%S\")\n",
    "filename = f'./graphs/all_data_{timestamp}.png'\n",
    "plt.savefig(filename)"
   ]
  },
  {
   "cell_type": "code",
   "execution_count": 85,
   "id": "acb82816",
   "metadata": {},
   "outputs": [
    {
     "name": "stdout",
     "output_type": "stream",
     "text": [
      "[ 52. 100.  93.  55.  74. 101.  28.  94. 100.  86.]\n"
     ]
    }
   ],
   "source": [
    "print(experiment_ages[experiment][:,100])"
   ]
  },
  {
   "cell_type": "code",
   "execution_count": 77,
   "id": "fe9102b6",
   "metadata": {
    "scrolled": false
   },
   "outputs": [
    {
     "data": {
      "image/png": "[encoded data removed]",
      "text/plain": [
       "<Figure size 800x550 with 1 Axes>"
      ]
     },
     "metadata": {},
     "output_type": "display_data"
    }
   ],
   "source": [
    "# print(experiment_ages)\n",
    "# plot age over time\n",
    "# plotting\n",
    "plt.figure(1, clear = True)\n",
    "experiment = 'pareto_quadratic'\n",
    "plot_mean_and_bootstrapped_ci_over_time(np.array([experiment_ages[experiment][0]]),\n",
    "                                    experiment,\n",
    "                                    \"Generation\",\n",
    "                                    \"Max Age\",\n",
    "                                    [0,1000],\n",
    "                                    plot_bootstrap = True)\n",
    "plt.show()"
   ]
  },
  {
   "cell_type": "code",
   "execution_count": 22,
   "id": "51ee9622",
   "metadata": {
    "ExecuteTime": {
     "end_time": "2024-11-21T00:56:50.137984Z",
     "start_time": "2024-11-21T00:56:50.091829600Z"
    },
    "scrolled": true
   },
   "outputs": [
    {
     "name": "stdout",
     "output_type": "stream",
     "text": [
      "\n",
      " (((((b**2)-(4*(a*c))) root 2)-b)/(2*a)) \n",
      "\n"
     ]
    },
    {
     "data": {
      "text/plain": [
       "99.44190956595341"
      ]
     },
     "execution_count": 22,
     "metadata": {},
     "output_type": "execute_result"
    }
   ],
   "source": [
    "\n",
    "# actual quadratic formula:\\n\",\n",
    "# (-b (+|-) root((pow(b,2) - 4 * (a * c)),2)) / (2 * a)\\n\",\n",
    "q_form = ['a', 'b', 'c', 2, 3, 4, 5, ('*',0,2), ('*',5,7), ('**',1,3), ('-',9,8), ('root',10,3), ('-', 11, 1), ('*',3,0),('/',12,13)]\n",
    "quad = Formula(min_len, max_len, degree, path)\n",
    "quad.formula = q_form\n",
    "quad.length_of_constants = 7\n",
    "quad.pretty_print_formula()\n",
    "quad.eval_fitness()"
   ]
  },
  {
   "cell_type": "code",
   "execution_count": null,
   "id": "6509d387997788fb",
   "metadata": {
    "ExecuteTime": {
     "end_time": "2024-11-22T01:28:53.723016600Z",
     "start_time": "2024-11-22T01:28:37.297462700Z"
    }
   },
   "outputs": [],
   "source": [
    "plot_mean_and_bootstrapped_ci_over_time(input_data=experiment_results['tournament_2'],x_label=\"Time\",y_label='Fitness',\n",
    "                                        name=\"Tournament Selection, 10c2\")"
   ]
  },
  {
   "cell_type": "code",
   "execution_count": null,
   "id": "d1c32c50",
   "metadata": {},
   "outputs": [],
   "source": []
  }
 ],
 "metadata": {
  "kernelspec": {
   "display_name": "Python 3 (ipykernel)",
   "language": "python",
   "name": "python3"
  },
  "language_info": {
   "codemirror_mode": {
    "name": "ipython",
    "version": 3
   },
   "file_extension": ".py",
   "mimetype": "text/x-python",
   "name": "python",
   "nbconvert_exporter": "python",
   "pygments_lexer": "ipython3",
   "version": "3.11.5"
  }
 },
 "nbformat": 4,
 "nbformat_minor": 5
}
